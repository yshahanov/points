{
  "cells": [
    {
      "cell_type": "markdown",
      "metadata": {
        "id": "JnNbpfBwQDGK"
      },
      "source": [
        "# Experimenting with PyTorch"
      ]
    },
    {
      "cell_type": "markdown",
      "metadata": {
        "id": "9JQXD8zTQDGL"
      },
      "source": [
        "For using PyTorch you can either use your own Computer or [Google Colab](https://colab.research.google.com/).\n",
        "\n",
        "You need to install the [PyTorch](https://pytorch.org/) package which comes with some extra dependencies.\n",
        "\n",
        "Install the following packages for this notebook:\n",
        "- **PyTorch**\n",
        "- **torchvision**\n",
        "- **tqdm**\n",
        "- **matplotlib**\n",
        "\n",
        "If your computer is equpped with a GPU you can also install the GPU version of PyTorch. Otherwise install the CPU version, which is smaller in size and enough for the tasks of this practical.\n",
        "\n",
        "For using the GPU version you need to fullfill some prerequisites first, which are a little time consuming.\n",
        "- Make sure that your graphics card is new enough to handle the PyTorch environment. This can be checked by searching for the compute capability of your GPU and the compute capability requirements from the PyTorch module\n",
        "- Install the latest NVIDIA driver\n",
        "- Install suitable CUDA version\n",
        "- Install CudNN\n",
        "- Install PyTorch after all previous successful steps\n",
        "\n",
        "\n",
        "Using Google Colab should avoid installing the above mentioned prerequisites."
      ]
    },
    {
      "cell_type": "markdown",
      "metadata": {
        "id": "8rKjZVFYQDGM"
      },
      "source": [
        "## PyTorch Operations"
      ]
    },
    {
      "cell_type": "code",
      "execution_count": 1,
      "metadata": {
        "colab": {
          "base_uri": "https://localhost:8080/"
        },
        "id": "aCkmd-MxQDGM",
        "outputId": "d0bdf97d-846c-46da-9112-0803e071d633"
      },
      "outputs": [
        {
          "output_type": "stream",
          "name": "stdout",
          "text": [
            "Shape: torch.Size([6, 1])\n",
            "Type: <class 'torch.Tensor'>\n",
            "Device: cpu\n",
            "Matrix multiplication:\n",
            "tensor([[0.8138, 0.8922],\n",
            "        [0.8187, 0.7379],\n",
            "        [0.4179, 0.7186],\n",
            "        [0.4107, 0.9331],\n",
            "        [0.1087, 0.6072],\n",
            "        [0.8967, 1.2521]])\n",
            "Element-wise:\n",
            "tensor([[0.0349, 0.2273],\n",
            "        [0.2391, 0.1545]])\n"
          ]
        }
      ],
      "source": [
        "import torch\n",
        "import torch.nn as nn\n",
        "import numpy as np\n",
        "from torchsummary import summary\n",
        "\n",
        "# Tensors\n",
        "\n",
        "# Initialize a 1d torch tensor of size (6, 1) and name it 'data'. Initialize the tensor as random normal distribution\n",
        "# Code here\n",
        "data = torch.randn(6,1)\n",
        "\n",
        "\n",
        "\n",
        "# Convert the torch tensor to a numpy array and convert it back afterwards. Keep the variable naming and just override the variable every time\n",
        "\n",
        "# Code here\n",
        "data = np.array(data)\n",
        "data = torch.tensor(data)\n",
        "\n",
        "# Tensors have a shape, a data type and are executed on some device on your computer. Find the mentioned tensor attributes and print them.\n",
        "\n",
        "# Code here\n",
        "\n",
        "print(\"Shape:\",data.shape)\n",
        "print(\"Type:\",type(data))\n",
        "print(\"Device:\",data.device)\n",
        "# Slicing works the same as with numpy arrays. No need to learn a new syntax here :)\n",
        "# Try some slicing methods (i. e. the slicing methods we discussed in the first practical)\n",
        "\n",
        "# Code here\n",
        "\n",
        "data[1,]\n",
        "data[:-1]\n",
        "data[0,:]\n",
        "data[:,0]\n",
        "data[0:0, 1:1]\n",
        "###\n",
        "# Arithmetic operations\n",
        "###\n",
        "\n",
        "# Perform a matrix multiplication with two random tensors of different shape. The value initialization is of your choice.\n",
        "\n",
        "# Code here\n",
        "m1 = torch.rand(6,2)\n",
        "m2 = torch.rand(2,2)\n",
        "\n",
        "res = m1 @ m2\n",
        "print(\"Matrix multiplication:\")\n",
        "print(res)\n",
        "\n",
        "\n",
        "# Perform the hadamard (element-wise) product with two random initialized tensors.\n",
        "\n",
        "# Code here\n",
        "\n",
        "x1 = torch.rand(2,2)\n",
        "x2 = torch.rand(2,2)\n",
        "\n",
        "mul = x1 * x2\n",
        "print(\"Element-wise:\")\n",
        "print(mul)\n",
        "\n",
        "# For more useful tensor operations, plese check out their website: https://pytorch.org/tutorials/beginner/basics/tensorqs_tutorial.html"
      ]
    },
    {
      "cell_type": "markdown",
      "metadata": {
        "id": "i_mvlH9-QDGN"
      },
      "source": [
        "## PyTorch Sequential and Layers"
      ]
    },
    {
      "cell_type": "code",
      "execution_count": 2,
      "metadata": {
        "id": "mZ_3WQz5QDGN",
        "colab": {
          "base_uri": "https://localhost:8080/"
        },
        "outputId": "c6d9ff06-611e-4f95-8b52-45290933b538"
      },
      "outputs": [
        {
          "output_type": "stream",
          "name": "stdout",
          "text": [
            "Attributes Linear(in_features=16, out_features=32, bias=True)\n",
            "torch.Size([32, 16])\n",
            "torch.Size([3, 32])\n"
          ]
        }
      ],
      "source": [
        "# We now build our first neural network layers and combine them into one model\n",
        "\n",
        "# First lets define an example Linear layer.\n",
        "# Initialize a Linear layer from PyTorch of dimension (in_features=16, out_features=32).\n",
        "\n",
        "# Code here\n",
        "\n",
        "linear_1 = nn.Linear(16, 32)\n",
        "\n",
        "\n",
        "\n",
        "# Print the layer attributes and print the weight of the Linear layer\n",
        "# Forward a fitting random initialized 2d tensor through the layer and print the result\n",
        "# What is the shape of the passed (forwarded) random tensor?\n",
        "\n",
        "\n",
        "# Code here\n",
        "print(\"Attributes\",linear_1)\n",
        "\n",
        "print(linear_1.weight.shape)\n",
        "\n",
        "ten2 = torch.randn(size = (3, 16))\n",
        "\n",
        "output = linear_1(ten2)\n",
        "\n",
        "print(output.shape)\n",
        "\n",
        "# Why does it work to just call an initialized layer by initialized_layer(input)?\n",
        "# Check the source code for the Linear Layer and its parent 'Module' class here: https://pytorch.org/docs/stable/_modules/torch/nn/modules/linear.html#Linear\n",
        "# Explain in your own words why the forward function of the 'Linear' class is automatically called when passing an input through the layer, i. e. initialized_layer(input)\n",
        "# Hint: Check out the class inheritance!\n",
        "\n",
        "\n",
        "# Your explanation here\n",
        "\n",
        "# Because of the call method\n",
        "\n",
        "\n",
        "# Build a sequential model with some linear layers stacked after each other. The number of layers is your choice, but be careful because it could cost a lot of time\n",
        "# to pass data through the sequential model afterwards. Start e. g. with three linear layers :)\n",
        "# You are not restricted to linear layers. Experiment a little bit here!\n",
        "\n",
        "# Code here\n",
        "model = nn.Sequential(\n",
        "    nn.Linear(784, 32),  # input layer (do not change the in_features size of this layer - we need it later)\n",
        "    nn.ReLU(),\n",
        "    nn.Linear(32, 32),\n",
        "    nn.ReLU(),\n",
        "    nn.Linear(32, 16),\n",
        "    nn.ReLU(),\n",
        "    nn.Linear(16, 10)  # you can change the in_features of this layer but let the out_features at size 10 here - we need it layer\n",
        ")\n",
        "\n",
        "# print(summary(model, (784,)))"
      ]
    },
    {
      "cell_type": "markdown",
      "metadata": {
        "id": "Cn7hraDJQDGO"
      },
      "source": [
        "## PyTorch Forward Pass"
      ]
    },
    {
      "cell_type": "code",
      "execution_count": 5,
      "metadata": {
        "id": "dxlDc9EdQDGO",
        "colab": {
          "base_uri": "https://localhost:8080/"
        },
        "outputId": "0f5b1ad0-4135-4daf-9fb7-a2d292ffe592"
      },
      "outputs": [
        {
          "output_type": "stream",
          "name": "stdout",
          "text": [
            "Mounted at /content/drive\n"
          ]
        }
      ],
      "source": [
        "# We initialized our model in the previous section\n",
        "# Lets now also use the model to pass data through it\n",
        "\n",
        "# Use the following tensor and pass it through your model from above\n",
        "# You have to 'reformat' the tensor first\n",
        "\n",
        "# Code here\n",
        "\n",
        "data = torch.randn(size=(5, 1, 28, 28))\n",
        "\n",
        "data = data.reshape(5,-1)\n",
        "\n",
        "# read the image 'mnist_9.jpg' from the downloaded folder with the 'torchvision' python package and pass it through the network\n",
        "# How does the tensor of the image looks like? Which information is in the different dimensions?\n",
        "\n",
        "# Code here\n",
        "\n",
        "# use this in case you're using colab\n",
        "from google.colab import drive\n",
        "drive.mount('/content/drive')\n",
        "\n",
        "from torchvision.io import read_image\n",
        "\n",
        "# path = \"/content/drive/My Drive/Colab Notebooks/mnist_9.jpg\"\n",
        "\n",
        "\n",
        "# im = read_image(path)\n",
        "# print(\"Image shape: \", im.shape)\n",
        "\n",
        "# image = im / 255\n",
        "\n",
        "# image = image.reshape(-1)\n",
        "\n",
        "\n",
        "\n",
        "# # visualize the image from above with matplotlib\n",
        "# import matplotlib.pyplot as plt\n",
        "\n",
        "# # Code here\n",
        "# plt.imshow(im[0], cmap='gray')\n",
        "\n",
        "# plt.show()\n",
        "\n",
        "\n"
      ]
    },
    {
      "cell_type": "markdown",
      "metadata": {
        "id": "lGsdcAwCQDGO"
      },
      "source": [
        "## PyTorch Neural Network Example Implementation"
      ]
    },
    {
      "cell_type": "code",
      "execution_count": 64,
      "metadata": {
        "id": "S44nhBexQDGO"
      },
      "outputs": [],
      "source": [
        "# This is only the application of your defined model\n",
        "# You can use the following method to train your model and check its accuracy. You can also use parts of the code below for the following practicals.\n",
        "# Just execute this box and it uses the predefined model from the previous task to run a training procedure. The variable name of the model must be 'model' (or change it accordingly).\n",
        "# ATTENTION: No worries if you don't understand the implementation. This is just for showing you how your defined model performs in terms of accuracy.\n",
        "# We will discuss everything in this code in future practicals.\n",
        "\n",
        "import torchvision\n",
        "import torchvision.transforms as transforms\n",
        "import tqdm\n",
        "\n",
        "#transforms.Normalize((0.5), (0.5))\n",
        "def load_mnist_data(root_path='./data', batch_size=4):\n",
        "    transform = transforms.Compose(\n",
        "        [transforms.ToTensor()]\n",
        "    )\n",
        "\n",
        "    trainset = torchvision.datasets.MNIST(root='./data', train=True, download=True, transform=transform)\n",
        "    trainloader = torch.utils.data.DataLoader(trainset, batch_size=batch_size, shuffle=True, num_workers=2)\n",
        "\n",
        "    testset = torchvision.datasets.MNIST(root='./data', train=False, download=True, transform=transform)\n",
        "    testloader = torch.utils.data.DataLoader(testset, batch_size=batch_size, shuffle=False, num_workers=2)\n",
        "\n",
        "    return trainloader  , testloader\n",
        "\n",
        "\n",
        "\n",
        "def train_model(model, batch_size: int = 1, epochs: int = 1):\n",
        "    # we only consider the mnist train data for this example\n",
        "    train_loader, _ = load_mnist_data()\n",
        "\n",
        "\n",
        "    device = torch.device('cuda') if torch.cuda.is_available() else torch.device('cpu')\n",
        "    model.to(device)\n",
        "    criterion = nn.CrossEntropyLoss()\n",
        "    optimizer = torch.optim.Adam(model.parameters(), lr=0.001)\n",
        "\n",
        "\n",
        "    for epoch in range(epochs):\n",
        "        running_loss = 0.0\n",
        "        running_accuracy = []\n",
        "        for imgs, targets in tqdm.tqdm(train_loader, desc=f'Training iteration {epoch + 1}'):\n",
        "            # print(imgs)\n",
        "            # print(targets)\n",
        "            # break\n",
        "            imgs, targets = imgs.to(device=device), targets.to(device=device)\n",
        "            # print(\"shape\")\n",
        "            # print(imgs.shape)\n",
        "            # print(len(targets))\n",
        "\n",
        "            # zero the parameter gradients\n",
        "            optimizer.zero_grad()\n",
        "            # print(\"Images\", imgs.reshape(imgs.shape[0], -1)[0])\n",
        "            # break\n",
        "            # print(\"targets\",targets)\n",
        "            # forward + backward + optimize\n",
        "            outputs = model(imgs.reshape(imgs.shape[0], -1))\n",
        "            print(outputs)\n",
        "\n",
        "            print(targets)\n",
        "\n",
        "\n",
        "            loss = criterion(outputs, targets)\n",
        "\n",
        "            loss.backward()\n",
        "            optimizer.step()\n",
        "\n",
        "            # print statistics\n",
        "            running_loss += loss.item()\n",
        "\n",
        "            # Calculate the Accuracy (how many of all samples are correctly classified?)\n",
        "            max_outputs = torch.max(outputs, dim=1).indices\n",
        "            print(max_outputs)\n",
        "            break\n",
        "            accuracy = (max_outputs.detach() == targets.detach()).to(dtype=torch.float32).mean()\n",
        "            running_accuracy.append(accuracy)\n",
        "\n",
        "        print(f'Epoch {epoch + 1} finished with loss: {running_loss / len(train_loader):.3f} and accuracy {torch.tensor(running_accuracy).mean():.3f}')\n",
        "\n",
        "\n",
        "# Run the model training with the name of your model variable, in this case 'model'\n",
        "# train_model(model=model, batch_size=1, epochs=1)"
      ]
    },
    {
      "cell_type": "code",
      "source": [
        "train_model(model=model, batch_size=1, epochs=1)"
      ],
      "metadata": {
        "colab": {
          "base_uri": "https://localhost:8080/"
        },
        "id": "GLw9MIaglZak",
        "outputId": "ec2aeac9-97cc-4479-d142-444478cd6d20"
      },
      "execution_count": 65,
      "outputs": [
        {
          "output_type": "stream",
          "name": "stderr",
          "text": [
            "Training iteration 1:   0%|          | 0/15000 [00:00<?, ?it/s]"
          ]
        },
        {
          "output_type": "stream",
          "name": "stdout",
          "text": [
            "tensor([[ 1.6535e+00, -7.2395e+00, -5.8665e+00, -6.5546e+00, -9.6127e+00,\n",
            "         -3.6934e+00, -4.4204e+00, -7.2624e+00, -2.7794e+00, -6.7190e+00],\n",
            "        [-2.4738e+01, -1.2215e+01, -7.8116e+00, -6.5804e+00, -1.2327e+01,\n",
            "         -1.6683e+01, -4.1781e+01, -2.7049e+00, -6.9118e+00, -9.3472e+00],\n",
            "        [-1.9283e+01, -1.2257e+01, -1.1168e+01,  1.5925e+00, -1.3543e+01,\n",
            "         -6.0359e+00, -1.9866e+01, -9.9116e+00, -6.5761e+00, -5.5937e+00],\n",
            "        [-1.5246e+01, -9.9456e+00, -1.9473e-02, -1.0465e+01, -2.7515e+01,\n",
            "         -1.2796e+01, -2.0881e+01, -8.8519e+00, -1.4797e+01, -2.8982e+01]],\n",
            "       device='cuda:0', grad_fn=<AddmmBackward0>)\n",
            "tensor([0, 7, 3, 2], device='cuda:0')\n",
            "tensor([0, 7, 3, 2], device='cuda:0')\n",
            "Epoch 1 finished with loss: 0.000 and accuracy nan\n"
          ]
        },
        {
          "output_type": "stream",
          "name": "stderr",
          "text": [
            "\n"
          ]
        }
      ]
    },
    {
      "cell_type": "code",
      "source": [
        "https://github.com/mrdbourke/pytorch-deep-learning/blob/main/02_pytorch_classification.ipynb"
      ],
      "metadata": {
        "id": "LmgRrOsA5yYs"
      },
      "execution_count": null,
      "outputs": []
    }
  ],
  "metadata": {
    "kernelspec": {
      "display_name": "Python 3",
      "name": "python3"
    },
    "language_info": {
      "codemirror_mode": {
        "name": "ipython",
        "version": 3
      },
      "file_extension": ".py",
      "mimetype": "text/x-python",
      "name": "python",
      "nbconvert_exporter": "python",
      "pygments_lexer": "ipython3",
      "version": "3.9.13"
    },
    "orig_nbformat": 4,
    "vscode": {
      "interpreter": {
        "hash": "25301cabe4c6f833fd20f15b1b22933971919908771eb627a83fe325b4fb6671"
      }
    },
    "colab": {
      "provenance": [],
      "gpuType": "T4"
    },
    "accelerator": "GPU"
  },
  "nbformat": 4,
  "nbformat_minor": 0
}